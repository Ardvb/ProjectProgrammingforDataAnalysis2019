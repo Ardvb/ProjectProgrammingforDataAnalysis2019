{
 "cells": [
  {
   "cell_type": "markdown",
   "metadata": {},
   "source": [
    "# Programming for Data Analysis Project 2019\n"
   ]
  },
  {
   "cell_type": "markdown",
   "metadata": {},
   "source": [
    "## Alcohol consumption in litres per year, among males in Ireland"
   ]
  },
  {
   "cell_type": "code",
   "execution_count": 1,
   "metadata": {},
   "outputs": [],
   "source": [
    "import numpy as np\n",
    "import pandas as pd\n",
    "import seaborn as sns\n",
    "import matplotlib.pyplot as plt"
   ]
  },
  {
   "cell_type": "markdown",
   "metadata": {},
   "source": [
    "### Variables used:\n",
    "- Alcohol intake among males in units per week\n",
    "- Age 14-?\n",
    "- IQ\n",
    "- Income"
   ]
  },
  {
   "cell_type": "code",
   "execution_count": null,
   "metadata": {},
   "outputs": [],
   "source": []
  },
  {
   "cell_type": "markdown",
   "metadata": {},
   "source": [
    "### Alcohol consumption in litres per year, among males in Ireland"
   ]
  },
  {
   "cell_type": "markdown",
   "metadata": {},
   "source": [
    "Irish people on average drink 13.19 litres or pure alcohol per year. https://www.thejournal.ie/alcohol-study-4622415-May2019/ (GOED WEERGEVEN).\n",
    "Men, on average, drink twice as much alcohol as women https://vinepair.com/wine-blog/world-map-men-vs-women-drink-alcohol/.\n",
    "So the mean consumption of males in Ireland is 17.58 litre of pure alcohol per year."
   ]
  },
  {
   "cell_type": "markdown",
   "metadata": {},
   "source": [
    "It took me while to find the best distribution for alcohol consumption. The normal distribution does not fit, as no consumption has the highest prevalence and negative alcohol consumption is not possible. After investigation, I found that the gamma distribution fits alcohol consumption the best. This article helped me figure this out: https://www.researchgate.net/publication/223971732_Determining_the_best_population-level_alcohol_consumption_model_and_its_impact_on_estimates_of_alcohol-attributable_harms\n"
   ]
  },
  {
   "cell_type": "code",
   "execution_count": 53,
   "metadata": {},
   "outputs": [],
   "source": [
    "x = np.random.gamma(0.75, 17.58, 1000)"
   ]
  },
  {
   "cell_type": "code",
   "execution_count": 55,
   "metadata": {},
   "outputs": [
    {
     "data": {
      "image/png": "[encoded data removed]",
      "text/plain": [
       "<Figure size 432x288 with 1 Axes>"
      ]
     },
     "metadata": {
      "needs_background": "light"
     },
     "output_type": "display_data"
    }
   ],
   "source": [
    "sns.distplot(x);"
   ]
  },
  {
   "cell_type": "code",
   "execution_count": null,
   "metadata": {},
   "outputs": [],
   "source": []
  }
 ],
 "metadata": {
  "kernelspec": {
   "display_name": "Python 3",
   "language": "python",
   "name": "python3"
  },
  "language_info": {
   "codemirror_mode": {
    "name": "ipython",
    "version": 3
   },
   "file_extension": ".py",
   "mimetype": "text/x-python",
   "name": "python",
   "nbconvert_exporter": "python",
   "pygments_lexer": "ipython3",
   "version": "3.7.1"
  }
 },
 "nbformat": 4,
 "nbformat_minor": 2
}
